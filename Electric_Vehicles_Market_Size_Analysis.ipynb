{
  "nbformat": 4,
  "nbformat_minor": 0,
  "metadata": {
    "colab": {
      "provenance": [],
      "mount_file_id": "138iWQHsMQFsfSazzKG-Ymx7UXzZ2lwoH",
      "authorship_tag": "ABX9TyN3nTMKhAmPAtxeascHu3Hq",
      "include_colab_link": true
    },
    "kernelspec": {
      "name": "python3",
      "display_name": "Python 3"
    },
    "language_info": {
      "name": "python"
    }
  },
  "cells": [
    {
      "cell_type": "markdown",
      "metadata": {
        "id": "view-in-github",
        "colab_type": "text"
      },
      "source": [
        "<a href=\"https://colab.research.google.com/github/KrishKanojia/Data-Science-Practice/blob/main/Electric_Vehicles_Market_Size_Analysis.ipynb\" target=\"_parent\"><img src=\"https://colab.research.google.com/assets/colab-badge.svg\" alt=\"Open In Colab\"/></a>"
      ]
    },
    {
      "cell_type": "markdown",
      "source": [
        "## Objective:\n",
        "In this task we'll estimate the potential sales for a product or service within particular market segment."
      ],
      "metadata": {
        "id": "jEg-9hXPzRli"
      }
    },
    {
      "cell_type": "code",
      "execution_count": 1,
      "metadata": {
        "id": "fcubEqnJkGXR"
      },
      "outputs": [],
      "source": [
        "import pandas as pd"
      ]
    },
    {
      "cell_type": "code",
      "source": [
        "df = pd.read_csv('/content/drive/MyDrive/Data Science Practice Dataset/Electric_Vehicle_Population_Data.csv')\n",
        "df.head()"
      ],
      "metadata": {
        "colab": {
          "base_uri": "https://localhost:8080/",
          "height": 730
        },
        "id": "AS19M8jPl29v",
        "outputId": "3c6f3cf8-7bf5-4263-e930-3b4fa4ce28cb"
      },
      "execution_count": 2,
      "outputs": [
        {
          "output_type": "execute_result",
          "data": {
            "text/plain": [
              "   VIN (1-10)     County       City State  Postal Code  Model Year   Make  \\\n",
              "0  5YJYGDEE1L       King    Seattle    WA      98122.0        2020  TESLA   \n",
              "1  7SAYGDEE9P  Snohomish    Bothell    WA      98021.0        2023  TESLA   \n",
              "2  5YJSA1E4XK       King    Seattle    WA      98109.0        2019  TESLA   \n",
              "3  5YJSA1E27G       King   Issaquah    WA      98027.0        2016  TESLA   \n",
              "4  5YJYGDEE5M     Kitsap  Suquamish    WA      98392.0        2021  TESLA   \n",
              "\n",
              "     Model           Electric Vehicle Type  \\\n",
              "0  MODEL Y  Battery Electric Vehicle (BEV)   \n",
              "1  MODEL Y  Battery Electric Vehicle (BEV)   \n",
              "2  MODEL S  Battery Electric Vehicle (BEV)   \n",
              "3  MODEL S  Battery Electric Vehicle (BEV)   \n",
              "4  MODEL Y  Battery Electric Vehicle (BEV)   \n",
              "\n",
              "   Clean Alternative Fuel Vehicle (CAFV) Eligibility  Electric Range  \\\n",
              "0            Clean Alternative Fuel Vehicle Eligible             291   \n",
              "1  Eligibility unknown as battery range has not b...               0   \n",
              "2            Clean Alternative Fuel Vehicle Eligible             270   \n",
              "3            Clean Alternative Fuel Vehicle Eligible             210   \n",
              "4  Eligibility unknown as battery range has not b...               0   \n",
              "\n",
              "   Base MSRP  Legislative District  DOL Vehicle ID  \\\n",
              "0          0                  37.0       125701579   \n",
              "1          0                   1.0       244285107   \n",
              "2          0                  36.0       156773144   \n",
              "3          0                   5.0       165103011   \n",
              "4          0                  23.0       205138552   \n",
              "\n",
              "                Vehicle Location  \\\n",
              "0   POINT (-122.30839 47.610365)   \n",
              "1  POINT (-122.179458 47.802589)   \n",
              "2   POINT (-122.34848 47.632405)   \n",
              "3   POINT (-122.03646 47.534065)   \n",
              "4   POINT (-122.55717 47.733415)   \n",
              "\n",
              "                                Electric Utility  2020 Census Tract  \n",
              "0   CITY OF SEATTLE - (WA)|CITY OF TACOMA - (WA)       5.303301e+10  \n",
              "1                         PUGET SOUND ENERGY INC       5.306105e+10  \n",
              "2   CITY OF SEATTLE - (WA)|CITY OF TACOMA - (WA)       5.303301e+10  \n",
              "3  PUGET SOUND ENERGY INC||CITY OF TACOMA - (WA)       5.303303e+10  \n",
              "4                         PUGET SOUND ENERGY INC       5.303594e+10  "
            ],
            "text/html": [
              "\n",
              "  <div id=\"df-e0b53097-bb5c-448f-a24c-2f084e22ea3a\" class=\"colab-df-container\">\n",
              "    <div>\n",
              "<style scoped>\n",
              "    .dataframe tbody tr th:only-of-type {\n",
              "        vertical-align: middle;\n",
              "    }\n",
              "\n",
              "    .dataframe tbody tr th {\n",
              "        vertical-align: top;\n",
              "    }\n",
              "\n",
              "    .dataframe thead th {\n",
              "        text-align: right;\n",
              "    }\n",
              "</style>\n",
              "<table border=\"1\" class=\"dataframe\">\n",
              "  <thead>\n",
              "    <tr style=\"text-align: right;\">\n",
              "      <th></th>\n",
              "      <th>VIN (1-10)</th>\n",
              "      <th>County</th>\n",
              "      <th>City</th>\n",
              "      <th>State</th>\n",
              "      <th>Postal Code</th>\n",
              "      <th>Model Year</th>\n",
              "      <th>Make</th>\n",
              "      <th>Model</th>\n",
              "      <th>Electric Vehicle Type</th>\n",
              "      <th>Clean Alternative Fuel Vehicle (CAFV) Eligibility</th>\n",
              "      <th>Electric Range</th>\n",
              "      <th>Base MSRP</th>\n",
              "      <th>Legislative District</th>\n",
              "      <th>DOL Vehicle ID</th>\n",
              "      <th>Vehicle Location</th>\n",
              "      <th>Electric Utility</th>\n",
              "      <th>2020 Census Tract</th>\n",
              "    </tr>\n",
              "  </thead>\n",
              "  <tbody>\n",
              "    <tr>\n",
              "      <th>0</th>\n",
              "      <td>5YJYGDEE1L</td>\n",
              "      <td>King</td>\n",
              "      <td>Seattle</td>\n",
              "      <td>WA</td>\n",
              "      <td>98122.0</td>\n",
              "      <td>2020</td>\n",
              "      <td>TESLA</td>\n",
              "      <td>MODEL Y</td>\n",
              "      <td>Battery Electric Vehicle (BEV)</td>\n",
              "      <td>Clean Alternative Fuel Vehicle Eligible</td>\n",
              "      <td>291</td>\n",
              "      <td>0</td>\n",
              "      <td>37.0</td>\n",
              "      <td>125701579</td>\n",
              "      <td>POINT (-122.30839 47.610365)</td>\n",
              "      <td>CITY OF SEATTLE - (WA)|CITY OF TACOMA - (WA)</td>\n",
              "      <td>5.303301e+10</td>\n",
              "    </tr>\n",
              "    <tr>\n",
              "      <th>1</th>\n",
              "      <td>7SAYGDEE9P</td>\n",
              "      <td>Snohomish</td>\n",
              "      <td>Bothell</td>\n",
              "      <td>WA</td>\n",
              "      <td>98021.0</td>\n",
              "      <td>2023</td>\n",
              "      <td>TESLA</td>\n",
              "      <td>MODEL Y</td>\n",
              "      <td>Battery Electric Vehicle (BEV)</td>\n",
              "      <td>Eligibility unknown as battery range has not b...</td>\n",
              "      <td>0</td>\n",
              "      <td>0</td>\n",
              "      <td>1.0</td>\n",
              "      <td>244285107</td>\n",
              "      <td>POINT (-122.179458 47.802589)</td>\n",
              "      <td>PUGET SOUND ENERGY INC</td>\n",
              "      <td>5.306105e+10</td>\n",
              "    </tr>\n",
              "    <tr>\n",
              "      <th>2</th>\n",
              "      <td>5YJSA1E4XK</td>\n",
              "      <td>King</td>\n",
              "      <td>Seattle</td>\n",
              "      <td>WA</td>\n",
              "      <td>98109.0</td>\n",
              "      <td>2019</td>\n",
              "      <td>TESLA</td>\n",
              "      <td>MODEL S</td>\n",
              "      <td>Battery Electric Vehicle (BEV)</td>\n",
              "      <td>Clean Alternative Fuel Vehicle Eligible</td>\n",
              "      <td>270</td>\n",
              "      <td>0</td>\n",
              "      <td>36.0</td>\n",
              "      <td>156773144</td>\n",
              "      <td>POINT (-122.34848 47.632405)</td>\n",
              "      <td>CITY OF SEATTLE - (WA)|CITY OF TACOMA - (WA)</td>\n",
              "      <td>5.303301e+10</td>\n",
              "    </tr>\n",
              "    <tr>\n",
              "      <th>3</th>\n",
              "      <td>5YJSA1E27G</td>\n",
              "      <td>King</td>\n",
              "      <td>Issaquah</td>\n",
              "      <td>WA</td>\n",
              "      <td>98027.0</td>\n",
              "      <td>2016</td>\n",
              "      <td>TESLA</td>\n",
              "      <td>MODEL S</td>\n",
              "      <td>Battery Electric Vehicle (BEV)</td>\n",
              "      <td>Clean Alternative Fuel Vehicle Eligible</td>\n",
              "      <td>210</td>\n",
              "      <td>0</td>\n",
              "      <td>5.0</td>\n",
              "      <td>165103011</td>\n",
              "      <td>POINT (-122.03646 47.534065)</td>\n",
              "      <td>PUGET SOUND ENERGY INC||CITY OF TACOMA - (WA)</td>\n",
              "      <td>5.303303e+10</td>\n",
              "    </tr>\n",
              "    <tr>\n",
              "      <th>4</th>\n",
              "      <td>5YJYGDEE5M</td>\n",
              "      <td>Kitsap</td>\n",
              "      <td>Suquamish</td>\n",
              "      <td>WA</td>\n",
              "      <td>98392.0</td>\n",
              "      <td>2021</td>\n",
              "      <td>TESLA</td>\n",
              "      <td>MODEL Y</td>\n",
              "      <td>Battery Electric Vehicle (BEV)</td>\n",
              "      <td>Eligibility unknown as battery range has not b...</td>\n",
              "      <td>0</td>\n",
              "      <td>0</td>\n",
              "      <td>23.0</td>\n",
              "      <td>205138552</td>\n",
              "      <td>POINT (-122.55717 47.733415)</td>\n",
              "      <td>PUGET SOUND ENERGY INC</td>\n",
              "      <td>5.303594e+10</td>\n",
              "    </tr>\n",
              "  </tbody>\n",
              "</table>\n",
              "</div>\n",
              "    <div class=\"colab-df-buttons\">\n",
              "\n",
              "  <div class=\"colab-df-container\">\n",
              "    <button class=\"colab-df-convert\" onclick=\"convertToInteractive('df-e0b53097-bb5c-448f-a24c-2f084e22ea3a')\"\n",
              "            title=\"Convert this dataframe to an interactive table.\"\n",
              "            style=\"display:none;\">\n",
              "\n",
              "  <svg xmlns=\"http://www.w3.org/2000/svg\" height=\"24px\" viewBox=\"0 -960 960 960\">\n",
              "    <path d=\"M120-120v-720h720v720H120Zm60-500h600v-160H180v160Zm220 220h160v-160H400v160Zm0 220h160v-160H400v160ZM180-400h160v-160H180v160Zm440 0h160v-160H620v160ZM180-180h160v-160H180v160Zm440 0h160v-160H620v160Z\"/>\n",
              "  </svg>\n",
              "    </button>\n",
              "\n",
              "  <style>\n",
              "    .colab-df-container {\n",
              "      display:flex;\n",
              "      gap: 12px;\n",
              "    }\n",
              "\n",
              "    .colab-df-convert {\n",
              "      background-color: #E8F0FE;\n",
              "      border: none;\n",
              "      border-radius: 50%;\n",
              "      cursor: pointer;\n",
              "      display: none;\n",
              "      fill: #1967D2;\n",
              "      height: 32px;\n",
              "      padding: 0 0 0 0;\n",
              "      width: 32px;\n",
              "    }\n",
              "\n",
              "    .colab-df-convert:hover {\n",
              "      background-color: #E2EBFA;\n",
              "      box-shadow: 0px 1px 2px rgba(60, 64, 67, 0.3), 0px 1px 3px 1px rgba(60, 64, 67, 0.15);\n",
              "      fill: #174EA6;\n",
              "    }\n",
              "\n",
              "    .colab-df-buttons div {\n",
              "      margin-bottom: 4px;\n",
              "    }\n",
              "\n",
              "    [theme=dark] .colab-df-convert {\n",
              "      background-color: #3B4455;\n",
              "      fill: #D2E3FC;\n",
              "    }\n",
              "\n",
              "    [theme=dark] .colab-df-convert:hover {\n",
              "      background-color: #434B5C;\n",
              "      box-shadow: 0px 1px 3px 1px rgba(0, 0, 0, 0.15);\n",
              "      filter: drop-shadow(0px 1px 2px rgba(0, 0, 0, 0.3));\n",
              "      fill: #FFFFFF;\n",
              "    }\n",
              "  </style>\n",
              "\n",
              "    <script>\n",
              "      const buttonEl =\n",
              "        document.querySelector('#df-e0b53097-bb5c-448f-a24c-2f084e22ea3a button.colab-df-convert');\n",
              "      buttonEl.style.display =\n",
              "        google.colab.kernel.accessAllowed ? 'block' : 'none';\n",
              "\n",
              "      async function convertToInteractive(key) {\n",
              "        const element = document.querySelector('#df-e0b53097-bb5c-448f-a24c-2f084e22ea3a');\n",
              "        const dataTable =\n",
              "          await google.colab.kernel.invokeFunction('convertToInteractive',\n",
              "                                                    [key], {});\n",
              "        if (!dataTable) return;\n",
              "\n",
              "        const docLinkHtml = 'Like what you see? Visit the ' +\n",
              "          '<a target=\"_blank\" href=https://colab.research.google.com/notebooks/data_table.ipynb>data table notebook</a>'\n",
              "          + ' to learn more about interactive tables.';\n",
              "        element.innerHTML = '';\n",
              "        dataTable['output_type'] = 'display_data';\n",
              "        await google.colab.output.renderOutput(dataTable, element);\n",
              "        const docLink = document.createElement('div');\n",
              "        docLink.innerHTML = docLinkHtml;\n",
              "        element.appendChild(docLink);\n",
              "      }\n",
              "    </script>\n",
              "  </div>\n",
              "\n",
              "\n",
              "<div id=\"df-3eccb4a2-5583-44fc-b3f2-d52f0a53d5dd\">\n",
              "  <button class=\"colab-df-quickchart\" onclick=\"quickchart('df-3eccb4a2-5583-44fc-b3f2-d52f0a53d5dd')\"\n",
              "            title=\"Suggest charts\"\n",
              "            style=\"display:none;\">\n",
              "\n",
              "<svg xmlns=\"http://www.w3.org/2000/svg\" height=\"24px\"viewBox=\"0 0 24 24\"\n",
              "     width=\"24px\">\n",
              "    <g>\n",
              "        <path d=\"M19 3H5c-1.1 0-2 .9-2 2v14c0 1.1.9 2 2 2h14c1.1 0 2-.9 2-2V5c0-1.1-.9-2-2-2zM9 17H7v-7h2v7zm4 0h-2V7h2v10zm4 0h-2v-4h2v4z\"/>\n",
              "    </g>\n",
              "</svg>\n",
              "  </button>\n",
              "\n",
              "<style>\n",
              "  .colab-df-quickchart {\n",
              "      --bg-color: #E8F0FE;\n",
              "      --fill-color: #1967D2;\n",
              "      --hover-bg-color: #E2EBFA;\n",
              "      --hover-fill-color: #174EA6;\n",
              "      --disabled-fill-color: #AAA;\n",
              "      --disabled-bg-color: #DDD;\n",
              "  }\n",
              "\n",
              "  [theme=dark] .colab-df-quickchart {\n",
              "      --bg-color: #3B4455;\n",
              "      --fill-color: #D2E3FC;\n",
              "      --hover-bg-color: #434B5C;\n",
              "      --hover-fill-color: #FFFFFF;\n",
              "      --disabled-bg-color: #3B4455;\n",
              "      --disabled-fill-color: #666;\n",
              "  }\n",
              "\n",
              "  .colab-df-quickchart {\n",
              "    background-color: var(--bg-color);\n",
              "    border: none;\n",
              "    border-radius: 50%;\n",
              "    cursor: pointer;\n",
              "    display: none;\n",
              "    fill: var(--fill-color);\n",
              "    height: 32px;\n",
              "    padding: 0;\n",
              "    width: 32px;\n",
              "  }\n",
              "\n",
              "  .colab-df-quickchart:hover {\n",
              "    background-color: var(--hover-bg-color);\n",
              "    box-shadow: 0 1px 2px rgba(60, 64, 67, 0.3), 0 1px 3px 1px rgba(60, 64, 67, 0.15);\n",
              "    fill: var(--button-hover-fill-color);\n",
              "  }\n",
              "\n",
              "  .colab-df-quickchart-complete:disabled,\n",
              "  .colab-df-quickchart-complete:disabled:hover {\n",
              "    background-color: var(--disabled-bg-color);\n",
              "    fill: var(--disabled-fill-color);\n",
              "    box-shadow: none;\n",
              "  }\n",
              "\n",
              "  .colab-df-spinner {\n",
              "    border: 2px solid var(--fill-color);\n",
              "    border-color: transparent;\n",
              "    border-bottom-color: var(--fill-color);\n",
              "    animation:\n",
              "      spin 1s steps(1) infinite;\n",
              "  }\n",
              "\n",
              "  @keyframes spin {\n",
              "    0% {\n",
              "      border-color: transparent;\n",
              "      border-bottom-color: var(--fill-color);\n",
              "      border-left-color: var(--fill-color);\n",
              "    }\n",
              "    20% {\n",
              "      border-color: transparent;\n",
              "      border-left-color: var(--fill-color);\n",
              "      border-top-color: var(--fill-color);\n",
              "    }\n",
              "    30% {\n",
              "      border-color: transparent;\n",
              "      border-left-color: var(--fill-color);\n",
              "      border-top-color: var(--fill-color);\n",
              "      border-right-color: var(--fill-color);\n",
              "    }\n",
              "    40% {\n",
              "      border-color: transparent;\n",
              "      border-right-color: var(--fill-color);\n",
              "      border-top-color: var(--fill-color);\n",
              "    }\n",
              "    60% {\n",
              "      border-color: transparent;\n",
              "      border-right-color: var(--fill-color);\n",
              "    }\n",
              "    80% {\n",
              "      border-color: transparent;\n",
              "      border-right-color: var(--fill-color);\n",
              "      border-bottom-color: var(--fill-color);\n",
              "    }\n",
              "    90% {\n",
              "      border-color: transparent;\n",
              "      border-bottom-color: var(--fill-color);\n",
              "    }\n",
              "  }\n",
              "</style>\n",
              "\n",
              "  <script>\n",
              "    async function quickchart(key) {\n",
              "      const quickchartButtonEl =\n",
              "        document.querySelector('#' + key + ' button');\n",
              "      quickchartButtonEl.disabled = true;  // To prevent multiple clicks.\n",
              "      quickchartButtonEl.classList.add('colab-df-spinner');\n",
              "      try {\n",
              "        const charts = await google.colab.kernel.invokeFunction(\n",
              "            'suggestCharts', [key], {});\n",
              "      } catch (error) {\n",
              "        console.error('Error during call to suggestCharts:', error);\n",
              "      }\n",
              "      quickchartButtonEl.classList.remove('colab-df-spinner');\n",
              "      quickchartButtonEl.classList.add('colab-df-quickchart-complete');\n",
              "    }\n",
              "    (() => {\n",
              "      let quickchartButtonEl =\n",
              "        document.querySelector('#df-3eccb4a2-5583-44fc-b3f2-d52f0a53d5dd button');\n",
              "      quickchartButtonEl.style.display =\n",
              "        google.colab.kernel.accessAllowed ? 'block' : 'none';\n",
              "    })();\n",
              "  </script>\n",
              "</div>\n",
              "\n",
              "    </div>\n",
              "  </div>\n"
            ],
            "application/vnd.google.colaboratory.intrinsic+json": {
              "type": "dataframe",
              "variable_name": "df"
            }
          },
          "metadata": {},
          "execution_count": 2
        }
      ]
    },
    {
      "cell_type": "code",
      "source": [
        "df.info()"
      ],
      "metadata": {
        "colab": {
          "base_uri": "https://localhost:8080/"
        },
        "id": "HVEoxbxGrmpj",
        "outputId": "25d4eee9-0a3d-4638-8288-7954dcb3cdaf"
      },
      "execution_count": 3,
      "outputs": [
        {
          "output_type": "stream",
          "name": "stdout",
          "text": [
            "<class 'pandas.core.frame.DataFrame'>\n",
            "RangeIndex: 177866 entries, 0 to 177865\n",
            "Data columns (total 17 columns):\n",
            " #   Column                                             Non-Null Count   Dtype  \n",
            "---  ------                                             --------------   -----  \n",
            " 0   VIN (1-10)                                         177866 non-null  object \n",
            " 1   County                                             177861 non-null  object \n",
            " 2   City                                               177861 non-null  object \n",
            " 3   State                                              177866 non-null  object \n",
            " 4   Postal Code                                        177861 non-null  float64\n",
            " 5   Model Year                                         177866 non-null  int64  \n",
            " 6   Make                                               177866 non-null  object \n",
            " 7   Model                                              177866 non-null  object \n",
            " 8   Electric Vehicle Type                              177866 non-null  object \n",
            " 9   Clean Alternative Fuel Vehicle (CAFV) Eligibility  177866 non-null  object \n",
            " 10  Electric Range                                     177866 non-null  int64  \n",
            " 11  Base MSRP                                          177866 non-null  int64  \n",
            " 12  Legislative District                               177477 non-null  float64\n",
            " 13  DOL Vehicle ID                                     177866 non-null  int64  \n",
            " 14  Vehicle Location                                   177857 non-null  object \n",
            " 15  Electric Utility                                   177861 non-null  object \n",
            " 16  2020 Census Tract                                  177861 non-null  float64\n",
            "dtypes: float64(3), int64(4), object(10)\n",
            "memory usage: 23.1+ MB\n"
          ]
        }
      ]
    },
    {
      "cell_type": "code",
      "source": [
        "df.isnull().sum()"
      ],
      "metadata": {
        "colab": {
          "base_uri": "https://localhost:8080/"
        },
        "id": "76JHF6W9srwe",
        "outputId": "14969caf-12a8-4652-fd5b-369c345c308b"
      },
      "execution_count": 4,
      "outputs": [
        {
          "output_type": "execute_result",
          "data": {
            "text/plain": [
              "VIN (1-10)                                             0\n",
              "County                                                 5\n",
              "City                                                   5\n",
              "State                                                  0\n",
              "Postal Code                                            5\n",
              "Model Year                                             0\n",
              "Make                                                   0\n",
              "Model                                                  0\n",
              "Electric Vehicle Type                                  0\n",
              "Clean Alternative Fuel Vehicle (CAFV) Eligibility      0\n",
              "Electric Range                                         0\n",
              "Base MSRP                                              0\n",
              "Legislative District                                 389\n",
              "DOL Vehicle ID                                         0\n",
              "Vehicle Location                                       9\n",
              "Electric Utility                                       5\n",
              "2020 Census Tract                                      5\n",
              "dtype: int64"
            ]
          },
          "metadata": {},
          "execution_count": 4
        }
      ]
    },
    {
      "cell_type": "code",
      "source": [
        "df.dropna(inplace=True)"
      ],
      "metadata": {
        "id": "c7p2Q4Emx1lR"
      },
      "execution_count": 5,
      "outputs": []
    },
    {
      "cell_type": "markdown",
      "source": [
        "Electric Vechicle Adoption Over time: Analyze the growth of EV population by model year.\n",
        "\n"
      ],
      "metadata": {
        "id": "Rc32kTg10yde"
      }
    },
    {
      "cell_type": "code",
      "source": [
        "import matplotlib.pyplot as plt\n",
        "import seaborn as sns\n",
        "import warnings\n",
        "warnings.filterwarnings(\"ignore\")\n",
        "sns.set_style(\"whitegrid\")\n",
        "\n",
        "# EV Adoption Over time\n",
        "plt.figure(figsize=(12, 6))\n",
        "ev_adoption_by_year = df['Model Year'].value_counts().sort_index()\n",
        "sns.barplot(x=ev_adoption_by_year.index, y=ev_adoption_by_year.values, palette='viridis')\n",
        "plt.title(\"EV Adoption Over Time\")\n",
        "plt.xlabel(\"Model Year\")\n",
        "plt.ylabel(\"Number of Evs\")\n",
        "plt.xticks(rotation=45)\n",
        "plt.tight_layout()\n",
        "plt.show()"
      ],
      "metadata": {
        "colab": {
          "base_uri": "https://localhost:8080/",
          "height": 607
        },
        "id": "dGFXWM3yzHRY",
        "outputId": "5c151c44-d78f-4b08-a754-bb0617acabcd"
      },
      "execution_count": 7,
      "outputs": [
        {
          "output_type": "display_data",
          "data": {
            "text/plain": [
              "<Figure size 1200x600 with 1 Axes>"
            ],
            "image/png": "[encoded data removed]"
          },
          "metadata": {}
        }
      ]
    },
    {
      "cell_type": "markdown",
      "source": [
        "### Growth of EV Distribution"
      ],
      "metadata": {
        "id": "gh03qsSgv2cv"
      }
    },
    {
      "cell_type": "code",
      "source": [
        "# Geographical distribution at county level\n",
        "ev_country_distribution = df['County'].value_counts()\n",
        "top_countries = ev_country_distribution.head(3).index\n",
        "\n",
        "# Filtering the dataset for these top countries\n",
        "top_countries_df = df[df['County'].isin(top_countries)]\n",
        "\n",
        "# analyzing the distribution of EVs within the cities of these top countries\n",
        "ev_city_distribution_top_countries = top_countries_df.groupby(['County', 'City']).size().sort_values(ascending=False).reset_index(name='Number of Vehicles')\n",
        "\n",
        "# Visualize the top 10 cities across these countries\n",
        "top_cities = ev_city_distribution_top_countries.head(10)\n",
        "\n",
        "plt.figure(figsize=(8, 6))\n",
        "sns.barplot(x='Number of Vehicles', y='City', hue='County', data=top_cities, palette=\"magma\")\n",
        "plt.title('Top Cities in Top Countries by EV Registrations')\n",
        "plt.xlabel('Number of Vehicles Registered')\n",
        "plt.ylabel('City')\n",
        "plt.legend(title='County')\n",
        "plt.tight_layout()\n",
        "plt.show()"
      ],
      "metadata": {
        "colab": {
          "base_uri": "https://localhost:8080/",
          "height": 607
        },
        "id": "xH7uTKkEwEZ_",
        "outputId": "d1f0226a-3842-40df-987e-4ad34922bda9"
      },
      "execution_count": 10,
      "outputs": [
        {
          "output_type": "display_data",
          "data": {
            "text/plain": [
              "<Figure size 800x600 with 1 Axes>"
            ],
            "image/png": "[encoded data removed]"
          },
          "metadata": {}
        }
      ]
    },
    {
      "cell_type": "markdown",
      "source": [
        "### Distribution of Types of Vehicle"
      ],
      "metadata": {
        "id": "24dX-OUBqeRk"
      }
    },
    {
      "cell_type": "code",
      "source": [
        "ev_type_distribution = df['Electric Vehicle Type'].value_counts()\n",
        "plt.figure(figsize=(10, 4))\n",
        "sns.barplot(x = ev_type_distribution.values, y=ev_type_distribution.index, palette=\"rocket\" )\n",
        "plt.xlabel(\"Number of Vehicles\")\n",
        "plt.ylabel(\"Vehicle Type\")\n",
        "plt.title(\"Distribution of Electric Vehicle\")\n",
        "plt.tight_layout()\n",
        "plt.show()"
      ],
      "metadata": {
        "colab": {
          "base_uri": "https://localhost:8080/",
          "height": 407
        },
        "id": "qCqieJsxqlNN",
        "outputId": "024f701c-c945-4868-bbaf-48e7a9a4158a"
      },
      "execution_count": 24,
      "outputs": [
        {
          "output_type": "display_data",
          "data": {
            "text/plain": [
              "<Figure size 1000x400 with 1 Axes>"
            ],
            "image/png": "[encoded data removed]"
          },
          "metadata": {}
        }
      ]
    },
    {
      "cell_type": "code",
      "source": [
        "\n"
      ],
      "metadata": {
        "id": "J0UYXgwY2zQR"
      },
      "execution_count": null,
      "outputs": []
    }
  ]
}